{
 "cells": [
  {
   "cell_type": "markdown",
   "id": "ce2965a0-69e3-4195-b0d1-918e1d3231e4",
   "metadata": {},
   "source": [
    "## Dominant Value Function"
   ]
  },
  {
   "cell_type": "code",
   "execution_count": 1,
   "id": "c902955e-9f4f-4cc8-87f7-007d860da9bf",
   "metadata": {},
   "outputs": [],
   "source": [
    "import numpy as np"
   ]
  },
  {
   "cell_type": "code",
   "execution_count": 2,
   "id": "71ad6b1a-61a3-4ad4-825b-0bc6b3c8ad64",
   "metadata": {},
   "outputs": [
    {
     "name": "stdout",
     "output_type": "stream",
     "text": [
      "Dominant eigenvalue: 5.0\n"
     ]
    }
   ],
   "source": [
    "def Dominant_Eigenvalue(x):\n",
    "    # A function to calculate eigenvalues and eigenvectors using numpy.\n",
    "    eigenvalues, eigenvectors = np.linalg.eig(x)\n",
    "    dominant_eigenvalue = np.max(np.abs(eigenvalues))\n",
    "    return dominant_eigenvalue\n",
    "\n",
    "x = np.array([[4, 1], [2, 3]])\n",
    "print(\"Dominant eigenvalue:\", Dominant_Eigenvalue(x))"
   ]
  },
  {
   "cell_type": "markdown",
   "id": "3e2252e7-5689-4774-aa6a-3ed5ead1b15e",
   "metadata": {},
   "source": [
    "## 2x2 Matrix inversse implementation "
   ]
  },
  {
   "cell_type": "code",
   "execution_count": 3,
   "id": "ae120d0b-632b-499a-9a11-e880ec532b36",
   "metadata": {},
   "outputs": [
    {
     "name": "stdout",
     "output_type": "stream",
     "text": [
      "Determinant of matrix is 2.0 \n",
      "\n",
      "Cofactors matrix:\n",
      " [[ 4 -3]\n",
      " [-2  2]] \n",
      "\n",
      "Inversed matrix:\n",
      " [[ 2.  -1.5]\n",
      " [-1.   1. ]] \n",
      "\n",
      "Identity matrix:\n",
      " [[1. 0.]\n",
      " [0. 1.]] \n",
      "\n"
     ]
    }
   ],
   "source": [
    "def Matrix_Operations(A):\n",
    "    # A function to get the inverse of 2x2 matrix.\n",
    "    matrix_det = np.linalg.det(A)\n",
    "\n",
    "    c = []\n",
    "    for i in range(len(A)):\n",
    "        for j in range(len(A[i])):\n",
    "            c.append(A[i][j])\n",
    "\n",
    "    c[0], c[3] = c[3], c[0]\n",
    "    c[1], c[2] = -c[1], -c[2]\n",
    "    matrix_A = np.array(c).reshape(2, 2)\n",
    "\n",
    "    print(\"Determinant of matrix is\", matrix_det, '\\n')\n",
    "    print(\"Cofactors matrix:\\n\", matrix_A, '\\n')\n",
    "\n",
    "    inversed_matrix = (1 / matrix_det) * matrix_A\n",
    "    print(\"Inversed matrix:\\n\", inversed_matrix, '\\n')\n",
    "\n",
    "    identity_matrix = inversed_matrix @ A\n",
    "    print(\"Identity matrix:\\n\", identity_matrix, '\\n')\n",
    "\n",
    "\n",
    "A = np.array([[2, 3], [2, 4]])\n",
    "Matrix_Operations(A)"
   ]
  },
  {
   "cell_type": "markdown",
   "id": "14c3b025-a739-4cf4-9cce-2f0c93fb71e0",
   "metadata": {},
   "source": [
    "## 3x3 Matrix inverse using numpy"
   ]
  },
  {
   "cell_type": "code",
   "execution_count": 4,
   "id": "625b4f1d-d248-4373-a8c5-44333d7c51e3",
   "metadata": {},
   "outputs": [
    {
     "name": "stdout",
     "output_type": "stream",
     "text": [
      "3x3 Matrix inverse\n",
      " [[ 0.17647059 -0.00326797 -0.02287582]\n",
      " [ 0.05882353 -0.13071895  0.08496732]\n",
      " [-0.11764706  0.1503268   0.05228758]]\n"
     ]
    }
   ],
   "source": [
    "A = np.array([[6, 1, 1], [4, -2, 5], [2, 8, 7]])\n",
    "print(\"3x3 Matrix inverse\\n\" ,np.linalg.inv(A))"
   ]
  }
 ],
 "metadata": {
  "kernelspec": {
   "display_name": "Python 3 (ipykernel)",
   "language": "python",
   "name": "python3"
  },
  "language_info": {
   "codemirror_mode": {
    "name": "ipython",
    "version": 3
   },
   "file_extension": ".py",
   "mimetype": "text/x-python",
   "name": "python",
   "nbconvert_exporter": "python",
   "pygments_lexer": "ipython3",
   "version": "3.12.4"
  }
 },
 "nbformat": 4,
 "nbformat_minor": 5
}
