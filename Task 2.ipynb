{
 "cells": [
  {
   "cell_type": "code",
   "execution_count": 2,
   "id": "34fdcb90-d26f-4633-8fa4-0ab1b6297867",
   "metadata": {},
   "outputs": [],
   "source": [
    "import numpy as np\n",
    "import pandas as pd"
   ]
  },
  {
   "cell_type": "code",
   "execution_count": 3,
   "id": "aaaf229b-28e4-4114-9097-ba49cd52269b",
   "metadata": {},
   "outputs": [
    {
     "name": "stdout",
     "output_type": "stream",
     "text": [
      "      age     sex     bmi  children smoker     region      charges\n",
      "0      19  female  27.900         0    yes  southwest  16884.92400\n",
      "1      18    male  33.770         1     no  southeast   1725.55230\n",
      "2      28    male  33.000         3     no  southeast   4449.46200\n",
      "3      33    male  22.705         0     no  northwest  21984.47061\n",
      "4      32    male  28.880         0     no  northwest   3866.85520\n",
      "...   ...     ...     ...       ...    ...        ...          ...\n",
      "1333   50    male  30.970         3     no  northwest  10600.54830\n",
      "1334   18  female  31.920         0     no  northeast   2205.98080\n",
      "1335   18  female  36.850         0     no  southeast   1629.83350\n",
      "1336   21  female  25.800         0     no  southwest   2007.94500\n",
      "1337   61  female  29.070         0    yes  northwest  29141.36030\n",
      "\n",
      "[1338 rows x 7 columns]\n"
     ]
    }
   ],
   "source": [
    "df = pd.read_csv('insurance-data.csv')\n",
    "print(df)"
   ]
  },
  {
   "cell_type": "code",
   "execution_count": 4,
   "id": "ff4c8107-981b-4fd5-9cb7-e997365f2ccb",
   "metadata": {},
   "outputs": [
    {
     "data": {
      "text/plain": [
       "(1338, 7)"
      ]
     },
     "execution_count": 4,
     "metadata": {},
     "output_type": "execute_result"
    }
   ],
   "source": [
    "df.shape"
   ]
  },
  {
   "cell_type": "code",
   "execution_count": 5,
   "id": "22793717-70c0-4906-8e8c-13f13486b165",
   "metadata": {},
   "outputs": [
    {
     "data": {
      "text/html": [
       "<div>\n",
       "<style scoped>\n",
       "    .dataframe tbody tr th:only-of-type {\n",
       "        vertical-align: middle;\n",
       "    }\n",
       "\n",
       "    .dataframe tbody tr th {\n",
       "        vertical-align: top;\n",
       "    }\n",
       "\n",
       "    .dataframe thead th {\n",
       "        text-align: right;\n",
       "    }\n",
       "</style>\n",
       "<table border=\"1\" class=\"dataframe\">\n",
       "  <thead>\n",
       "    <tr style=\"text-align: right;\">\n",
       "      <th></th>\n",
       "      <th>age</th>\n",
       "      <th>bmi</th>\n",
       "      <th>children</th>\n",
       "      <th>charges</th>\n",
       "    </tr>\n",
       "  </thead>\n",
       "  <tbody>\n",
       "    <tr>\n",
       "      <th>count</th>\n",
       "      <td>1338.000000</td>\n",
       "      <td>1338.000000</td>\n",
       "      <td>1338.000000</td>\n",
       "      <td>1338.000000</td>\n",
       "    </tr>\n",
       "    <tr>\n",
       "      <th>mean</th>\n",
       "      <td>39.207025</td>\n",
       "      <td>30.663397</td>\n",
       "      <td>1.094918</td>\n",
       "      <td>13270.422265</td>\n",
       "    </tr>\n",
       "    <tr>\n",
       "      <th>std</th>\n",
       "      <td>14.049960</td>\n",
       "      <td>6.098187</td>\n",
       "      <td>1.205493</td>\n",
       "      <td>12110.011237</td>\n",
       "    </tr>\n",
       "    <tr>\n",
       "      <th>min</th>\n",
       "      <td>18.000000</td>\n",
       "      <td>15.960000</td>\n",
       "      <td>0.000000</td>\n",
       "      <td>1121.873900</td>\n",
       "    </tr>\n",
       "    <tr>\n",
       "      <th>25%</th>\n",
       "      <td>27.000000</td>\n",
       "      <td>26.296250</td>\n",
       "      <td>0.000000</td>\n",
       "      <td>4740.287150</td>\n",
       "    </tr>\n",
       "    <tr>\n",
       "      <th>50%</th>\n",
       "      <td>39.000000</td>\n",
       "      <td>30.400000</td>\n",
       "      <td>1.000000</td>\n",
       "      <td>9382.033000</td>\n",
       "    </tr>\n",
       "    <tr>\n",
       "      <th>75%</th>\n",
       "      <td>51.000000</td>\n",
       "      <td>34.693750</td>\n",
       "      <td>2.000000</td>\n",
       "      <td>16639.912515</td>\n",
       "    </tr>\n",
       "    <tr>\n",
       "      <th>max</th>\n",
       "      <td>64.000000</td>\n",
       "      <td>53.130000</td>\n",
       "      <td>5.000000</td>\n",
       "      <td>63770.428010</td>\n",
       "    </tr>\n",
       "  </tbody>\n",
       "</table>\n",
       "</div>"
      ],
      "text/plain": [
       "               age          bmi     children       charges\n",
       "count  1338.000000  1338.000000  1338.000000   1338.000000\n",
       "mean     39.207025    30.663397     1.094918  13270.422265\n",
       "std      14.049960     6.098187     1.205493  12110.011237\n",
       "min      18.000000    15.960000     0.000000   1121.873900\n",
       "25%      27.000000    26.296250     0.000000   4740.287150\n",
       "50%      39.000000    30.400000     1.000000   9382.033000\n",
       "75%      51.000000    34.693750     2.000000  16639.912515\n",
       "max      64.000000    53.130000     5.000000  63770.428010"
      ]
     },
     "execution_count": 5,
     "metadata": {},
     "output_type": "execute_result"
    }
   ],
   "source": [
    "df.describe()"
   ]
  },
  {
   "cell_type": "markdown",
   "id": "96484f60-7f79-4af0-81f4-cc0d3c2ed149",
   "metadata": {},
   "source": [
    "### Question 1"
   ]
  },
  {
   "cell_type": "code",
   "execution_count": 6,
   "id": "1dc09eca-9a4d-48b5-8870-2b43f9e4c7fa",
   "metadata": {},
   "outputs": [
    {
     "name": "stdout",
     "output_type": "stream",
     "text": [
      "Percentage of female smokers is  8.59 %\n"
     ]
    }
   ],
   "source": [
    "Female_smokers_percentage = len(df[(df['sex'] == 'female') & (df['smoker'] == 'yes')]) / len(df) * 100\n",
    "print(\"Percentage of female smokers is \" , \"{:.2f}\".format(Female_smokers_percentage) , \"%\")"
   ]
  },
  {
   "cell_type": "markdown",
   "id": "aa4c6c55-ab79-44c7-a20c-7ee48083cc81",
   "metadata": {},
   "source": [
    "### Question 2"
   ]
  },
  {
   "cell_type": "code",
   "execution_count": 7,
   "id": "b449dc5a-b40e-4ad4-a877-08091136ea09",
   "metadata": {},
   "outputs": [
    {
     "name": "stdout",
     "output_type": "stream",
     "text": [
      "The city with maximum insurance rate is \" southeast \"\n"
     ]
    }
   ],
   "source": [
    "Region_max_insurence = df.sort_values(by=['charges'], ascending=False)\n",
    "print(\"The city with maximum insurance rate is\" , '\"' , Region_max_insurence['region'].iloc[0] , '\"')"
   ]
  },
  {
   "cell_type": "markdown",
   "id": "1cd66f59-3b40-4086-a751-45fee7662349",
   "metadata": {},
   "source": [
    "### Question 3"
   ]
  },
  {
   "cell_type": "code",
   "execution_count": 8,
   "id": "170b524e-b5d9-44a6-8dea-e862d245c89f",
   "metadata": {},
   "outputs": [
    {
     "name": "stdout",
     "output_type": "stream",
     "text": [
      "The gender with maximum insurance rate is a female\n"
     ]
    }
   ],
   "source": [
    "Max_insurence = df.sort_values(by=['charges'], ascending=False)\n",
    "print(\"The gender with maximum insurance rate is a\" , Max_insurence['sex'].iloc[0])"
   ]
  },
  {
   "cell_type": "markdown",
   "id": "97550a9b-2710-4898-abdd-0dab4622e7e9",
   "metadata": {},
   "source": [
    "### Question 4"
   ]
  },
  {
   "cell_type": "code",
   "execution_count": 9,
   "id": "d477f16f-c367-4aaf-b490-8508415d610d",
   "metadata": {},
   "outputs": [
    {
     "name": "stdout",
     "output_type": "stream",
     "text": [
      "Average age of smoker females is 38.61\n"
     ]
    }
   ],
   "source": [
    "df_female_smoker = df[(df['sex'] == 'female') & (df['smoker'] == 'yes')]\n",
    "avg_age = np.mean(df_female_smoker['age'])\n",
    "print(\"Average age of smoker females is\" , \"{:.2f}\".format(avg_age))"
   ]
  },
  {
   "cell_type": "markdown",
   "id": "3f2b4337-39f5-4022-9803-c09f80d77d77",
   "metadata": {},
   "source": [
    "### Question 5"
   ]
  },
  {
   "cell_type": "code",
   "execution_count": 10,
   "id": "88aa0fb2-6f87-454a-a8a4-90c5dcc65069",
   "metadata": {},
   "outputs": [
    {
     "name": "stdout",
     "output_type": "stream",
     "text": [
      "Percentage of males who has children is 57.84 %\n"
     ]
    }
   ],
   "source": [
    "df_male_with_children = df[(df['sex'] == 'male') & (df['children'] > 0)]\n",
    "percentage = (len(df_male_with_children) / len(df[df['sex'] == 'male'])) * 100\n",
    "print(\"Percentage of males who has children is\" , \"{:.2f}\".format(percentage) , \"%\")"
   ]
  },
  {
   "cell_type": "markdown",
   "id": "8878f414-34a1-4be3-a391-793b08332f5d",
   "metadata": {},
   "source": [
    "### Question 6"
   ]
  },
  {
   "cell_type": "code",
   "execution_count": 11,
   "id": "ebce2070-3059-42ab-85ed-721a8d910a25",
   "metadata": {},
   "outputs": [
    {
     "name": "stdout",
     "output_type": "stream",
     "text": [
      "Percentage of males who has children is 56.34 %\n"
     ]
    }
   ],
   "source": [
    "df_female_with_children = df[(df['sex'] == 'female') & (df['children'] > 0)]\n",
    "percentage = (len(df_female_with_children) / len(df[df['sex'] == 'female'])) * 100\n",
    "print(\"Percentage of males who has children is\" , \"{:.2f}\".format(percentage) , \"%\")"
   ]
  },
  {
   "cell_type": "code",
   "execution_count": 12,
   "id": "ce1fd64d-f4b4-4c70-a6f7-41777b292704",
   "metadata": {},
   "outputs": [
    {
     "name": "stdout",
     "output_type": "stream",
     "text": [
      "Average charges of males who has children is 13083.94\n"
     ]
    }
   ],
   "source": [
    "df_female_with_children = df[(df['sex'] == 'female') & (df['children'] > 0)]\n",
    "avg_charges = np.mean(df_female_with_children['charges'])\n",
    "print(\"Average charges of males who has children is\" , \"{:.2f}\".format(avg_charges))"
   ]
  },
  {
   "cell_type": "markdown",
   "id": "a99e6244-50bb-43d8-970d-ffdd7e018854",
   "metadata": {},
   "source": [
    "### Question 7"
   ]
  },
  {
   "cell_type": "code",
   "execution_count": 13,
   "id": "5e8131f3-fce5-4d10-a152-d163b883f3cb",
   "metadata": {},
   "outputs": [
    {
     "name": "stdout",
     "output_type": "stream",
     "text": [
      "Maximum number of children associated with male is 5\n"
     ]
    }
   ],
   "source": [
    "male_df = df[df['sex'] == 'male']\n",
    "Male_max_children = male_df.sort_values(by='children', ascending=False)\n",
    "print(\"Maximum number of children associated with male is\" , Male_max_children['children'].iloc[0])"
   ]
  },
  {
   "cell_type": "markdown",
   "id": "8ca4d156-9db3-4176-9c38-08e2c2be1c1a",
   "metadata": {},
   "source": [
    "### Question 8"
   ]
  },
  {
   "cell_type": "code",
   "execution_count": 14,
   "id": "482cee80-23c9-4f62-8083-a3b5d49e25a9",
   "metadata": {},
   "outputs": [
    {
     "name": "stdout",
     "output_type": "stream",
     "text": [
      "Maximum number of children associated with female is 5\n"
     ]
    }
   ],
   "source": [
    "female_df = df[df['sex'] == 'female']\n",
    "Female_max_children = female_df.sort_values(by='children', ascending=False)\n",
    "print(\"Maximum number of children associated with female is\" , Female_max_children['children'].iloc[0])"
   ]
  },
  {
   "cell_type": "markdown",
   "id": "103ca765-33ed-4276-b04a-74a77760d1d1",
   "metadata": {},
   "source": [
    "### Question 9"
   ]
  },
  {
   "cell_type": "code",
   "execution_count": 15,
   "id": "0f0f47c2-d512-470a-97f5-08a876c343ea",
   "metadata": {},
   "outputs": [
    {
     "name": "stdout",
     "output_type": "stream",
     "text": [
      "City with the maximum female insurance total charge is southeast\n"
     ]
    }
   ],
   "source": [
    "Female_df = df[df['sex'] == 'female']\n",
    "Female_max_charges = Female_df.sort_values(by='charges' , ascending=False)\n",
    "print(\"City with the maximum female insurance total charge is\" , Female_max_charges['region'].iloc[0])"
   ]
  }
 ],
 "metadata": {
  "kernelspec": {
   "display_name": "Python 3 (ipykernel)",
   "language": "python",
   "name": "python3"
  },
  "language_info": {
   "codemirror_mode": {
    "name": "ipython",
    "version": 3
   },
   "file_extension": ".py",
   "mimetype": "text/x-python",
   "name": "python",
   "nbconvert_exporter": "python",
   "pygments_lexer": "ipython3",
   "version": "3.12.4"
  }
 },
 "nbformat": 4,
 "nbformat_minor": 5
}
